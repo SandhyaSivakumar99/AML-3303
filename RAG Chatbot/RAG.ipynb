{
 "cells": [
  {
   "cell_type": "markdown",
   "id": "301e86fe",
   "metadata": {
    "vscode": {
     "languageId": "plaintext"
    }
   },
   "source": [
    "## Task: Build a Campus FAQ Chatbot using RAG"
   ]
  },
  {
   "cell_type": "markdown",
   "id": "0ebacc31",
   "metadata": {
    "vscode": {
     "languageId": "plaintext"
    }
   },
   "source": [
    "### Objective:\n",
    "Learn how Retrieval-Augmented Generation (RAG) works by building a small chatbot that answers questions about your college using vector embeddings and a mini vector database."
   ]
  },
  {
   "cell_type": "markdown",
   "id": "e10ac740",
   "metadata": {
    "vscode": {
     "languageId": "plaintext"
    }
   },
   "source": [
    "#### Step 0: Setup\n",
    "\n",
    "1. Install required packages:"
   ]
  },
  {
   "cell_type": "code",
   "id": "70b7c666",
   "metadata": {
    "vscode": {
     "languageId": "plaintext"
    },
    "ExecuteTime": {
     "end_time": "2025-10-10T22:46:40.250396Z",
     "start_time": "2025-10-10T22:45:41.613874Z"
    }
   },
   "source": [
    "pip install streamlit sentence-transformers faiss-cpu numpy"
   ],
   "outputs": [
    {
     "name": "stdout",
     "output_type": "stream",
     "text": [
      "Collecting streamlit\n",
      "  Obtaining dependency information for streamlit from https://files.pythonhosted.org/packages/2a/38/991bbf9fa3ed3d9c8e69265fc449bdaade8131c7f0f750dbd388c3c477dc/streamlit-1.50.0-py3-none-any.whl.metadata\n",
      "  Using cached streamlit-1.50.0-py3-none-any.whl.metadata (9.5 kB)\n",
      "Collecting sentence-transformers\n",
      "  Obtaining dependency information for sentence-transformers from https://files.pythonhosted.org/packages/48/21/4670d03ab8587b0ab6f7d5fa02a95c3dd6b1f39d0e40e508870201f3d76c/sentence_transformers-5.1.1-py3-none-any.whl.metadata\n",
      "  Using cached sentence_transformers-5.1.1-py3-none-any.whl.metadata (16 kB)\n",
      "Collecting faiss-cpu\n",
      "  Obtaining dependency information for faiss-cpu from https://files.pythonhosted.org/packages/c9/b8/6911de6b8fdcfa76144680c2195df6ce7e0cc920a8be8c5bbd2dfe5e3c37/faiss_cpu-1.12.0-cp312-cp312-win_amd64.whl.metadata\n",
      "  Using cached faiss_cpu-1.12.0-cp312-cp312-win_amd64.whl.metadata (5.2 kB)\n",
      "Requirement already satisfied: numpy in c:\\users\\sandhya siva kumar\\pycharmprojects\\micro projects\\.venv\\lib\\site-packages (2.3.3)\n",
      "Collecting altair!=5.4.0,!=5.4.1,<6,>=4.0 (from streamlit)\n",
      "  Obtaining dependency information for altair!=5.4.0,!=5.4.1,<6,>=4.0 from https://files.pythonhosted.org/packages/aa/f3/0b6ced594e51cc95d8c1fc1640d3623770d01e4969d29c0bd09945fafefa/altair-5.5.0-py3-none-any.whl.metadata\n",
      "  Using cached altair-5.5.0-py3-none-any.whl.metadata (11 kB)\n",
      "Collecting blinker<2,>=1.5.0 (from streamlit)\n",
      "  Obtaining dependency information for blinker<2,>=1.5.0 from https://files.pythonhosted.org/packages/10/cb/f2ad4230dc2eb1a74edf38f1a38b9b52277f75bef262d8908e60d957e13c/blinker-1.9.0-py3-none-any.whl.metadata\n",
      "  Using cached blinker-1.9.0-py3-none-any.whl.metadata (1.6 kB)\n",
      "Collecting cachetools<7,>=4.0 (from streamlit)\n",
      "  Obtaining dependency information for cachetools<7,>=4.0 from https://files.pythonhosted.org/packages/6c/56/3124f61d37a7a4e7cc96afc5492c78ba0cb551151e530b54669ddd1436ef/cachetools-6.2.0-py3-none-any.whl.metadata\n",
      "  Using cached cachetools-6.2.0-py3-none-any.whl.metadata (5.4 kB)\n",
      "Collecting click<9,>=7.0 (from streamlit)\n",
      "  Obtaining dependency information for click<9,>=7.0 from https://files.pythonhosted.org/packages/db/d3/9dcc0f5797f070ec8edf30fbadfb200e71d9db6b84d211e3b2085a7589a0/click-8.3.0-py3-none-any.whl.metadata\n",
      "  Using cached click-8.3.0-py3-none-any.whl.metadata (2.6 kB)\n",
      "Requirement already satisfied: packaging<26,>=20 in c:\\users\\sandhya siva kumar\\pycharmprojects\\micro projects\\.venv\\lib\\site-packages (from streamlit) (25.0)\n",
      "Requirement already satisfied: pandas<3,>=1.4.0 in c:\\users\\sandhya siva kumar\\pycharmprojects\\micro projects\\.venv\\lib\\site-packages (from streamlit) (2.3.3)\n",
      "Requirement already satisfied: pillow<12,>=7.1.0 in c:\\users\\sandhya siva kumar\\pycharmprojects\\micro projects\\.venv\\lib\\site-packages (from streamlit) (11.3.0)\n",
      "Collecting protobuf<7,>=3.20 (from streamlit)\n",
      "  Obtaining dependency information for protobuf<7,>=3.20 from https://files.pythonhosted.org/packages/8c/f3/6f58f841f6ebafe076cebeae33fc336e900619d34b1c93e4b5c97a81fdfa/protobuf-6.32.1-cp310-abi3-win_amd64.whl.metadata\n",
      "  Using cached protobuf-6.32.1-cp310-abi3-win_amd64.whl.metadata (593 bytes)\n",
      "Collecting pyarrow>=7.0 (from streamlit)\n",
      "  Obtaining dependency information for pyarrow>=7.0 from https://files.pythonhosted.org/packages/71/30/f3795b6e192c3ab881325ffe172e526499eb3780e306a15103a2764916a2/pyarrow-21.0.0-cp312-cp312-win_amd64.whl.metadata\n",
      "  Using cached pyarrow-21.0.0-cp312-cp312-win_amd64.whl.metadata (3.4 kB)\n",
      "Requirement already satisfied: requests<3,>=2.27 in c:\\users\\sandhya siva kumar\\pycharmprojects\\micro projects\\.venv\\lib\\site-packages (from streamlit) (2.32.5)\n",
      "Collecting tenacity<10,>=8.1.0 (from streamlit)\n",
      "  Obtaining dependency information for tenacity<10,>=8.1.0 from https://files.pythonhosted.org/packages/e5/30/643397144bfbfec6f6ef821f36f33e57d35946c44a2352d3c9f0ae847619/tenacity-9.1.2-py3-none-any.whl.metadata\n",
      "  Using cached tenacity-9.1.2-py3-none-any.whl.metadata (1.2 kB)\n",
      "Collecting toml<2,>=0.10.1 (from streamlit)\n",
      "  Obtaining dependency information for toml<2,>=0.10.1 from https://files.pythonhosted.org/packages/44/6f/7120676b6d73228c96e17f1f794d8ab046fc910d781c8d151120c3f1569e/toml-0.10.2-py2.py3-none-any.whl.metadata\n",
      "  Using cached toml-0.10.2-py2.py3-none-any.whl.metadata (7.1 kB)\n",
      "Requirement already satisfied: typing-extensions<5,>=4.4.0 in c:\\users\\sandhya siva kumar\\pycharmprojects\\micro projects\\.venv\\lib\\site-packages (from streamlit) (4.15.0)\n",
      "Collecting watchdog<7,>=2.1.5 (from streamlit)\n",
      "  Obtaining dependency information for watchdog<7,>=2.1.5 from https://files.pythonhosted.org/packages/db/d9/c495884c6e548fce18a8f40568ff120bc3a4b7b99813081c8ac0c936fa64/watchdog-6.0.0-py3-none-win_amd64.whl.metadata\n",
      "  Using cached watchdog-6.0.0-py3-none-win_amd64.whl.metadata (44 kB)\n",
      "Collecting gitpython!=3.1.19,<4,>=3.0.7 (from streamlit)\n",
      "  Obtaining dependency information for gitpython!=3.1.19,<4,>=3.0.7 from https://files.pythonhosted.org/packages/01/61/d4b89fec821f72385526e1b9d9a3a0385dda4a72b206d28049e2c7cd39b8/gitpython-3.1.45-py3-none-any.whl.metadata\n",
      "  Using cached gitpython-3.1.45-py3-none-any.whl.metadata (13 kB)\n",
      "Collecting pydeck<1,>=0.8.0b4 (from streamlit)\n",
      "  Obtaining dependency information for pydeck<1,>=0.8.0b4 from https://files.pythonhosted.org/packages/ab/4c/b888e6cf58bd9db9c93f40d1c6be8283ff49d88919231afe93a6bcf61626/pydeck-0.9.1-py2.py3-none-any.whl.metadata\n",
      "  Using cached pydeck-0.9.1-py2.py3-none-any.whl.metadata (4.1 kB)\n",
      "Requirement already satisfied: tornado!=6.5.0,<7,>=6.0.3 in c:\\users\\sandhya siva kumar\\pycharmprojects\\micro projects\\.venv\\lib\\site-packages (from streamlit) (6.5.2)\n",
      "Collecting transformers<5.0.0,>=4.41.0 (from sentence-transformers)\n",
      "  Obtaining dependency information for transformers<5.0.0,>=4.41.0 from https://files.pythonhosted.org/packages/e5/2b/4d2708ac1ff5cd708b6548f4c5812d0ae40d1c28591c4c1c762b6dbdef2d/transformers-4.57.0-py3-none-any.whl.metadata\n",
      "  Using cached transformers-4.57.0-py3-none-any.whl.metadata (41 kB)\n",
      "Collecting tqdm (from sentence-transformers)\n",
      "  Obtaining dependency information for tqdm from https://files.pythonhosted.org/packages/d0/30/dc54f88dd4a2b5dc8a0279bdd7270e735851848b762aeb1c1184ed1f6b14/tqdm-4.67.1-py3-none-any.whl.metadata\n",
      "  Using cached tqdm-4.67.1-py3-none-any.whl.metadata (57 kB)\n",
      "Collecting torch>=1.11.0 (from sentence-transformers)\n",
      "  Obtaining dependency information for torch>=1.11.0 from https://files.pythonhosted.org/packages/af/8a/5c87f08e3abd825c7dfecef5a0f1d9aa5df5dd0e3fd1fa2f490a8e512402/torch-2.8.0-cp312-cp312-win_amd64.whl.metadata\n",
      "  Using cached torch-2.8.0-cp312-cp312-win_amd64.whl.metadata (30 kB)\n",
      "Collecting scikit-learn (from sentence-transformers)\n",
      "  Obtaining dependency information for scikit-learn from https://files.pythonhosted.org/packages/c6/99/ed35197a158f1fdc2fe7c3680e9c70d0128f662e1fee4ed495f4b5e13db0/scikit_learn-1.7.2-cp312-cp312-win_amd64.whl.metadata\n",
      "  Using cached scikit_learn-1.7.2-cp312-cp312-win_amd64.whl.metadata (11 kB)\n",
      "Collecting scipy (from sentence-transformers)\n",
      "  Obtaining dependency information for scipy from https://files.pythonhosted.org/packages/34/95/20e02ca66fb495a95fba0642fd48e0c390d0ece9b9b14c6e931a60a12dea/scipy-1.16.2-cp312-cp312-win_amd64.whl.metadata\n",
      "  Using cached scipy-1.16.2-cp312-cp312-win_amd64.whl.metadata (60 kB)\n",
      "Collecting huggingface-hub>=0.20.0 (from sentence-transformers)\n",
      "  Obtaining dependency information for huggingface-hub>=0.20.0 from https://files.pythonhosted.org/packages/31/a0/651f93d154cb72323358bf2bbae3e642bdb5d2f1bfc874d096f7cb159fa0/huggingface_hub-0.35.3-py3-none-any.whl.metadata\n",
      "  Using cached huggingface_hub-0.35.3-py3-none-any.whl.metadata (14 kB)\n",
      "Requirement already satisfied: jinja2 in c:\\users\\sandhya siva kumar\\pycharmprojects\\micro projects\\.venv\\lib\\site-packages (from altair!=5.4.0,!=5.4.1,<6,>=4.0->streamlit) (3.1.6)\n",
      "Requirement already satisfied: jsonschema>=3.0 in c:\\users\\sandhya siva kumar\\pycharmprojects\\micro projects\\.venv\\lib\\site-packages (from altair!=5.4.0,!=5.4.1,<6,>=4.0->streamlit) (4.25.1)\n",
      "Collecting narwhals>=1.14.2 (from altair!=5.4.0,!=5.4.1,<6,>=4.0->streamlit)\n",
      "  Obtaining dependency information for narwhals>=1.14.2 from https://files.pythonhosted.org/packages/74/0d/bc630dfd34ad2150d40f9392e94d3803980e71a47e10a709ce9bfcd40ffe/narwhals-2.7.0-py3-none-any.whl.metadata\n",
      "  Using cached narwhals-2.7.0-py3-none-any.whl.metadata (11 kB)\n",
      "Requirement already satisfied: colorama in c:\\users\\sandhya siva kumar\\pycharmprojects\\micro projects\\.venv\\lib\\site-packages (from click<9,>=7.0->streamlit) (0.4.6)\n",
      "Collecting gitdb<5,>=4.0.1 (from gitpython!=3.1.19,<4,>=3.0.7->streamlit)\n",
      "  Obtaining dependency information for gitdb<5,>=4.0.1 from https://files.pythonhosted.org/packages/a0/61/5c78b91c3143ed5c14207f463aecfc8f9dbb5092fb2869baf37c273b2705/gitdb-4.0.12-py3-none-any.whl.metadata\n",
      "  Using cached gitdb-4.0.12-py3-none-any.whl.metadata (1.2 kB)\n",
      "Collecting filelock (from huggingface-hub>=0.20.0->sentence-transformers)\n",
      "  Obtaining dependency information for filelock from https://files.pythonhosted.org/packages/76/91/7216b27286936c16f5b4d0c530087e4a54eead683e6b0b73dd0c64844af6/filelock-3.20.0-py3-none-any.whl.metadata\n",
      "  Downloading filelock-3.20.0-py3-none-any.whl.metadata (2.1 kB)\n",
      "Collecting fsspec>=2023.5.0 (from huggingface-hub>=0.20.0->sentence-transformers)\n",
      "  Obtaining dependency information for fsspec>=2023.5.0 from https://files.pythonhosted.org/packages/47/71/70db47e4f6ce3e5c37a607355f80da8860a33226be640226ac52cb05ef2e/fsspec-2025.9.0-py3-none-any.whl.metadata\n",
      "  Using cached fsspec-2025.9.0-py3-none-any.whl.metadata (10 kB)\n",
      "Requirement already satisfied: pyyaml>=5.1 in c:\\users\\sandhya siva kumar\\pycharmprojects\\micro projects\\.venv\\lib\\site-packages (from huggingface-hub>=0.20.0->sentence-transformers) (6.0.3)\n",
      "Requirement already satisfied: python-dateutil>=2.8.2 in c:\\users\\sandhya siva kumar\\pycharmprojects\\micro projects\\.venv\\lib\\site-packages (from pandas<3,>=1.4.0->streamlit) (2.9.0.post0)\n",
      "Requirement already satisfied: pytz>=2020.1 in c:\\users\\sandhya siva kumar\\pycharmprojects\\micro projects\\.venv\\lib\\site-packages (from pandas<3,>=1.4.0->streamlit) (2025.2)\n",
      "Requirement already satisfied: tzdata>=2022.7 in c:\\users\\sandhya siva kumar\\pycharmprojects\\micro projects\\.venv\\lib\\site-packages (from pandas<3,>=1.4.0->streamlit) (2025.2)\n",
      "Requirement already satisfied: charset_normalizer<4,>=2 in c:\\users\\sandhya siva kumar\\pycharmprojects\\micro projects\\.venv\\lib\\site-packages (from requests<3,>=2.27->streamlit) (3.4.3)\n",
      "Requirement already satisfied: idna<4,>=2.5 in c:\\users\\sandhya siva kumar\\pycharmprojects\\micro projects\\.venv\\lib\\site-packages (from requests<3,>=2.27->streamlit) (3.10)\n",
      "Requirement already satisfied: urllib3<3,>=1.21.1 in c:\\users\\sandhya siva kumar\\pycharmprojects\\micro projects\\.venv\\lib\\site-packages (from requests<3,>=2.27->streamlit) (2.5.0)\n",
      "Requirement already satisfied: certifi>=2017.4.17 in c:\\users\\sandhya siva kumar\\pycharmprojects\\micro projects\\.venv\\lib\\site-packages (from requests<3,>=2.27->streamlit) (2025.8.3)\n",
      "Collecting sympy>=1.13.3 (from torch>=1.11.0->sentence-transformers)\n",
      "  Obtaining dependency information for sympy>=1.13.3 from https://files.pythonhosted.org/packages/a2/09/77d55d46fd61b4a135c444fc97158ef34a095e5681d0a6c10b75bf356191/sympy-1.14.0-py3-none-any.whl.metadata\n",
      "  Using cached sympy-1.14.0-py3-none-any.whl.metadata (12 kB)\n",
      "Collecting networkx (from torch>=1.11.0->sentence-transformers)\n",
      "  Obtaining dependency information for networkx from https://files.pythonhosted.org/packages/eb/8d/776adee7bbf76365fdd7f2552710282c79a4ead5d2a46408c9043a2b70ba/networkx-3.5-py3-none-any.whl.metadata\n",
      "  Using cached networkx-3.5-py3-none-any.whl.metadata (6.3 kB)\n",
      "Requirement already satisfied: setuptools in c:\\users\\sandhya siva kumar\\pycharmprojects\\micro projects\\.venv\\lib\\site-packages (from torch>=1.11.0->sentence-transformers) (80.9.0)\n",
      "Collecting regex!=2019.12.17 (from transformers<5.0.0,>=4.41.0->sentence-transformers)\n",
      "  Obtaining dependency information for regex!=2019.12.17 from https://files.pythonhosted.org/packages/e0/f5/4a7770c9a522e7d2dc1fa3ffc83ab2ab33b0b22b447e62cffef186805302/regex-2025.9.18-cp312-cp312-win_amd64.whl.metadata\n",
      "  Using cached regex-2025.9.18-cp312-cp312-win_amd64.whl.metadata (41 kB)\n",
      "Collecting tokenizers<=0.23.0,>=0.22.0 (from transformers<5.0.0,>=4.41.0->sentence-transformers)\n",
      "  Obtaining dependency information for tokenizers<=0.23.0,>=0.22.0 from https://files.pythonhosted.org/packages/b3/46/e33a8c93907b631a99377ef4c5f817ab453d0b34f93529421f42ff559671/tokenizers-0.22.1-cp39-abi3-win_amd64.whl.metadata\n",
      "  Using cached tokenizers-0.22.1-cp39-abi3-win_amd64.whl.metadata (6.9 kB)\n",
      "Collecting safetensors>=0.4.3 (from transformers<5.0.0,>=4.41.0->sentence-transformers)\n",
      "  Obtaining dependency information for safetensors>=0.4.3 from https://files.pythonhosted.org/packages/2c/c3/c0be1135726618dc1e28d181b8c442403d8dbb9e273fd791de2d4384bcdd/safetensors-0.6.2-cp38-abi3-win_amd64.whl.metadata\n",
      "  Using cached safetensors-0.6.2-cp38-abi3-win_amd64.whl.metadata (4.1 kB)\n",
      "Collecting joblib>=1.2.0 (from scikit-learn->sentence-transformers)\n",
      "  Obtaining dependency information for joblib>=1.2.0 from https://files.pythonhosted.org/packages/1e/e8/685f47e0d754320684db4425a0967f7d3fa70126bffd76110b7009a0090f/joblib-1.5.2-py3-none-any.whl.metadata\n",
      "  Using cached joblib-1.5.2-py3-none-any.whl.metadata (5.6 kB)\n",
      "Collecting threadpoolctl>=3.1.0 (from scikit-learn->sentence-transformers)\n",
      "  Obtaining dependency information for threadpoolctl>=3.1.0 from https://files.pythonhosted.org/packages/32/d5/f9a850d79b0851d1d4ef6456097579a9005b31fea68726a4ae5f2d82ddd9/threadpoolctl-3.6.0-py3-none-any.whl.metadata\n",
      "  Using cached threadpoolctl-3.6.0-py3-none-any.whl.metadata (13 kB)\n",
      "Collecting smmap<6,>=3.0.1 (from gitdb<5,>=4.0.1->gitpython!=3.1.19,<4,>=3.0.7->streamlit)\n",
      "  Obtaining dependency information for smmap<6,>=3.0.1 from https://files.pythonhosted.org/packages/04/be/d09147ad1ec7934636ad912901c5fd7667e1c858e19d355237db0d0cd5e4/smmap-5.0.2-py3-none-any.whl.metadata\n",
      "  Using cached smmap-5.0.2-py3-none-any.whl.metadata (4.3 kB)\n",
      "Requirement already satisfied: MarkupSafe>=2.0 in c:\\users\\sandhya siva kumar\\pycharmprojects\\micro projects\\.venv\\lib\\site-packages (from jinja2->altair!=5.4.0,!=5.4.1,<6,>=4.0->streamlit) (3.0.3)\n",
      "Requirement already satisfied: attrs>=22.2.0 in c:\\users\\sandhya siva kumar\\pycharmprojects\\micro projects\\.venv\\lib\\site-packages (from jsonschema>=3.0->altair!=5.4.0,!=5.4.1,<6,>=4.0->streamlit) (25.3.0)\n",
      "Requirement already satisfied: jsonschema-specifications>=2023.03.6 in c:\\users\\sandhya siva kumar\\pycharmprojects\\micro projects\\.venv\\lib\\site-packages (from jsonschema>=3.0->altair!=5.4.0,!=5.4.1,<6,>=4.0->streamlit) (2025.9.1)\n",
      "Requirement already satisfied: referencing>=0.28.4 in c:\\users\\sandhya siva kumar\\pycharmprojects\\micro projects\\.venv\\lib\\site-packages (from jsonschema>=3.0->altair!=5.4.0,!=5.4.1,<6,>=4.0->streamlit) (0.36.2)\n",
      "Requirement already satisfied: rpds-py>=0.7.1 in c:\\users\\sandhya siva kumar\\pycharmprojects\\micro projects\\.venv\\lib\\site-packages (from jsonschema>=3.0->altair!=5.4.0,!=5.4.1,<6,>=4.0->streamlit) (0.27.1)\n",
      "Requirement already satisfied: six>=1.5 in c:\\users\\sandhya siva kumar\\pycharmprojects\\micro projects\\.venv\\lib\\site-packages (from python-dateutil>=2.8.2->pandas<3,>=1.4.0->streamlit) (1.17.0)\n",
      "Collecting mpmath<1.4,>=1.1.0 (from sympy>=1.13.3->torch>=1.11.0->sentence-transformers)\n",
      "  Obtaining dependency information for mpmath<1.4,>=1.1.0 from https://files.pythonhosted.org/packages/43/e3/7d92a15f894aa0c9c4b49b8ee9ac9850d6e63b03c9c32c0367a13ae62209/mpmath-1.3.0-py3-none-any.whl.metadata\n",
      "  Using cached mpmath-1.3.0-py3-none-any.whl.metadata (8.6 kB)\n",
      "Using cached streamlit-1.50.0-py3-none-any.whl (10.1 MB)\n",
      "Using cached sentence_transformers-5.1.1-py3-none-any.whl (486 kB)\n",
      "Using cached faiss_cpu-1.12.0-cp312-cp312-win_amd64.whl (18.2 MB)\n",
      "Using cached altair-5.5.0-py3-none-any.whl (731 kB)\n",
      "Using cached blinker-1.9.0-py3-none-any.whl (8.5 kB)\n",
      "Using cached cachetools-6.2.0-py3-none-any.whl (11 kB)\n",
      "Using cached click-8.3.0-py3-none-any.whl (107 kB)\n",
      "Using cached gitpython-3.1.45-py3-none-any.whl (208 kB)\n",
      "Using cached huggingface_hub-0.35.3-py3-none-any.whl (564 kB)\n",
      "Using cached protobuf-6.32.1-cp310-abi3-win_amd64.whl (435 kB)\n",
      "Using cached pyarrow-21.0.0-cp312-cp312-win_amd64.whl (26.2 MB)\n",
      "Using cached pydeck-0.9.1-py2.py3-none-any.whl (6.9 MB)\n",
      "Using cached tenacity-9.1.2-py3-none-any.whl (28 kB)\n",
      "Using cached toml-0.10.2-py2.py3-none-any.whl (16 kB)\n",
      "Using cached torch-2.8.0-cp312-cp312-win_amd64.whl (241.3 MB)\n",
      "Using cached tqdm-4.67.1-py3-none-any.whl (78 kB)\n",
      "Using cached transformers-4.57.0-py3-none-any.whl (12.0 MB)\n",
      "Using cached watchdog-6.0.0-py3-none-win_amd64.whl (79 kB)\n",
      "Using cached scikit_learn-1.7.2-cp312-cp312-win_amd64.whl (8.7 MB)\n",
      "Using cached scipy-1.16.2-cp312-cp312-win_amd64.whl (38.6 MB)\n",
      "Using cached fsspec-2025.9.0-py3-none-any.whl (199 kB)\n",
      "Using cached gitdb-4.0.12-py3-none-any.whl (62 kB)\n",
      "Using cached joblib-1.5.2-py3-none-any.whl (308 kB)\n",
      "Using cached narwhals-2.7.0-py3-none-any.whl (412 kB)\n",
      "Using cached regex-2025.9.18-cp312-cp312-win_amd64.whl (275 kB)\n",
      "Using cached safetensors-0.6.2-cp38-abi3-win_amd64.whl (320 kB)\n",
      "Using cached sympy-1.14.0-py3-none-any.whl (6.3 MB)\n",
      "Using cached threadpoolctl-3.6.0-py3-none-any.whl (18 kB)\n",
      "Using cached tokenizers-0.22.1-cp39-abi3-win_amd64.whl (2.7 MB)\n",
      "Downloading filelock-3.20.0-py3-none-any.whl (16 kB)\n",
      "Using cached networkx-3.5-py3-none-any.whl (2.0 MB)\n",
      "Using cached mpmath-1.3.0-py3-none-any.whl (536 kB)\n",
      "Using cached smmap-5.0.2-py3-none-any.whl (24 kB)\n",
      "Installing collected packages: mpmath, watchdog, tqdm, toml, threadpoolctl, tenacity, sympy, smmap, scipy, safetensors, regex, pyarrow, protobuf, networkx, narwhals, joblib, fsspec, filelock, faiss-cpu, click, cachetools, blinker, torch, scikit-learn, pydeck, huggingface-hub, gitdb, tokenizers, gitpython, transformers, altair, streamlit, sentence-transformers\n",
      "Successfully installed altair-5.5.0 blinker-1.9.0 cachetools-6.2.0 click-8.3.0 faiss-cpu-1.12.0 filelock-3.20.0 fsspec-2025.9.0 gitdb-4.0.12 gitpython-3.1.45 huggingface-hub-0.35.3 joblib-1.5.2 mpmath-1.3.0 narwhals-2.7.0 networkx-3.5 protobuf-6.32.1 pyarrow-21.0.0 pydeck-0.9.1 regex-2025.9.18 safetensors-0.6.2 scikit-learn-1.7.2 scipy-1.16.2 sentence-transformers-5.1.1 smmap-5.0.2 streamlit-1.50.0 sympy-1.14.0 tenacity-9.1.2 threadpoolctl-3.6.0 tokenizers-0.22.1 toml-0.10.2 torch-2.8.0 tqdm-4.67.1 transformers-4.57.0 watchdog-6.0.0\n",
      "Note: you may need to restart the kernel to use updated packages.\n"
     ]
    },
    {
     "name": "stderr",
     "output_type": "stream",
     "text": [
      "\n",
      "[notice] A new release of pip is available: 23.2.1 -> 25.2\n",
      "[notice] To update, run: python.exe -m pip install --upgrade pip\n"
     ]
    }
   ],
   "execution_count": 1
  },
  {
   "cell_type": "markdown",
   "id": "fa5890f8",
   "metadata": {
    "vscode": {
     "languageId": "plaintext"
    }
   },
   "source": [
    "#### Step 1: Prepare the Data\n",
    "\n",
    "Task: Create a small FAQ dataset with at least 5 Q&A pairs.\n",
    "Example:\n",
    "\n",
    "Q: When does the library open?\n",
    "A: The library opens at 8 AM and closes at 8 PM."
   ]
  },
  {
   "cell_type": "markdown",
   "id": "d93c70e2",
   "metadata": {},
   "source": [
    "Checkpoint:\n",
    "\n",
    "Students should have a list of questions and answers ready."
   ]
  },
  {
   "cell_type": "markdown",
   "id": "466b308d",
   "metadata": {},
   "source": [
    "#### Step 2: Split Text into Chunks\n",
    "\n",
    "Task: Split your FAQ into separate lines to treat each Q&A as a chunk."
   ]
  },
  {
   "metadata": {
    "ExecuteTime": {
     "end_time": "2025-10-10T22:48:14.489833Z",
     "start_time": "2025-10-10T22:48:14.482965Z"
    }
   },
   "cell_type": "code",
   "source": [
    "faq_text = \"\"\"\n",
    "Q:What’s the difference between espresso and drip coffee? A:Espresso is made by forcing hot water through finely-ground coffee at high pressure, producing a strong, concentrated shot with crema on top. Drip coffee lets water slowly pass through coarser grounds, giving a lighter flavor.\n",
    "\n",
    "How is decaf coffee made? Decaf coffee is made by removing about 97% of the caffeine from green coffee beans before roasting. Methods include the Swiss Water Process or solvent extraction.\n",
    "\n",
    "What are the best beans for cold brew? Medium to dark roast beans work best for cold brew because they give smooth, chocolatey flavors when steeped for long hours.\n",
    "\n",
    "Why do baristas use milk frothers? Milk frothers create microfoam that gives cappuccinos and lattes their creamy texture and blends well with espresso.\n",
    "\n",
    "What is the origin of cappuccino? The cappuccino originated in Italy and was named after the Capuchin monks because its color resembled their robes.\n",
    "\n",
    "How much caffeine is in a latte? A typical 12-oz latte contains about 60–80 mg of caffeine depending on the beans and shot size.\n",
    "\n",
    "What’s the difference between Arabica and Robusta beans? Arabica beans are smoother and sweet, while Robusta beans are stronger, more bitter, and have more caffeine.\n",
    "\n",
    "Can coffee help with focus? Yes! Caffeine blocks adenosine, a brain chemical that makes you sleepy, and boosts dopamine and alertness.\n",
    "\n",
    "What is latte art? Latte art is the creative design made when pouring steamed milk into espresso, forming shapes like hearts or leaves.\n",
    "\n",
    "How should coffee beans be stored? Keep beans in an airtight container away from light, heat, and moisture to keep them fresh longer.\n",
    "\"\"\"\n"
   ],
   "id": "3a73a11260b8d3cf",
   "outputs": [],
   "execution_count": 2
  },
  {
   "cell_type": "code",
   "id": "0af04ed2",
   "metadata": {
    "vscode": {
     "languageId": "plaintext"
    },
    "ExecuteTime": {
     "end_time": "2025-10-10T22:48:17.421507Z",
     "start_time": "2025-10-10T22:48:17.418233Z"
    }
   },
   "source": "lines = [line.strip() for line in faq_text.split(\"\\n\") if line.strip()]\n",
   "outputs": [],
   "execution_count": 3
  },
  {
   "cell_type": "markdown",
   "id": "cfd24419",
   "metadata": {},
   "source": [
    "Checkpoint:\n",
    "\n",
    "Ensure each Q&A is a separate element in a Python list."
   ]
  },
  {
   "metadata": {
    "ExecuteTime": {
     "end_time": "2025-10-10T22:48:19.642519Z",
     "start_time": "2025-10-10T22:48:19.634543Z"
    }
   },
   "cell_type": "code",
   "source": "lines",
   "id": "75a64c5463a3fe07",
   "outputs": [
    {
     "data": {
      "text/plain": [
       "['Q:What’s the difference between espresso and drip coffee? A:Espresso is made by forcing hot water through finely-ground coffee at high pressure, producing a strong, concentrated shot with crema on top. Drip coffee lets water slowly pass through coarser grounds, giving a lighter flavor.',\n",
       " 'How is decaf coffee made? Decaf coffee is made by removing about 97% of the caffeine from green coffee beans before roasting. Methods include the Swiss Water Process or solvent extraction.',\n",
       " 'What are the best beans for cold brew? Medium to dark roast beans work best for cold brew because they give smooth, chocolatey flavors when steeped for long hours.',\n",
       " 'Why do baristas use milk frothers? Milk frothers create microfoam that gives cappuccinos and lattes their creamy texture and blends well with espresso.',\n",
       " 'What is the origin of cappuccino? The cappuccino originated in Italy and was named after the Capuchin monks because its color resembled their robes.',\n",
       " 'How much caffeine is in a latte? A typical 12-oz latte contains about 60–80 mg of caffeine depending on the beans and shot size.',\n",
       " 'What’s the difference between Arabica and Robusta beans? Arabica beans are smoother and sweet, while Robusta beans are stronger, more bitter, and have more caffeine.',\n",
       " 'Can coffee help with focus? Yes! Caffeine blocks adenosine, a brain chemical that makes you sleepy, and boosts dopamine and alertness.',\n",
       " 'What is latte art? Latte art is the creative design made when pouring steamed milk into espresso, forming shapes like hearts or leaves.',\n",
       " 'How should coffee beans be stored? Keep beans in an airtight container away from light, heat, and moisture to keep them fresh longer.']"
      ]
     },
     "execution_count": 4,
     "metadata": {},
     "output_type": "execute_result"
    }
   ],
   "execution_count": 4
  },
  {
   "cell_type": "markdown",
   "id": "ce6cdaec",
   "metadata": {},
   "source": [
    "#### Step 3: Create Embeddings\n",
    "\n",
    "Task: Convert each line to a vector using SentenceTransformer."
   ]
  },
  {
   "cell_type": "markdown",
   "id": "284eb43d",
   "metadata": {},
   "source": [
    "from sentence_transformers import SentenceTransformer\n",
    "model = SentenceTransformer('all-MiniLM-L6-v2')\n",
    "embeddings = model.encode(lines)"
   ]
  },
  {
   "metadata": {
    "ExecuteTime": {
     "end_time": "2025-10-10T22:56:21.033708Z",
     "start_time": "2025-10-10T22:53:07.895177Z"
    }
   },
   "cell_type": "code",
   "source": "from sentence_transformers import SentenceTransformer",
   "id": "c6a8f77b1f1ec551",
   "outputs": [
    {
     "name": "stderr",
     "output_type": "stream",
     "text": [
      "C:\\Users\\Sandhya Siva kumar\\PycharmProjects\\Micro Projects\\.venv\\Lib\\site-packages\\tqdm\\auto.py:21: TqdmWarning: IProgress not found. Please update jupyter and ipywidgets. See https://ipywidgets.readthedocs.io/en/stable/user_install.html\n",
      "  from .autonotebook import tqdm as notebook_tqdm\n"
     ]
    }
   ],
   "execution_count": 5
  },
  {
   "metadata": {
    "ExecuteTime": {
     "end_time": "2025-10-08T04:56:34.476413Z",
     "start_time": "2025-10-08T04:56:31.304882Z"
    }
   },
   "cell_type": "code",
   "source": [
    "model = SentenceTransformer('all-MiniLM-L6-v2')\n",
    "embeddings = model.encode(lines)"
   ],
   "id": "d1ffd3afc24dbdef",
   "outputs": [],
   "execution_count": 13
  },
  {
   "cell_type": "markdown",
   "id": "f6c951f3",
   "metadata": {
    "vscode": {
     "languageId": "plaintext"
    }
   },
   "source": [
    "#### Step 4: Build the FAISS Index\n",
    "\n",
    "Task: Store all embeddings in a FAISS vector database."
   ]
  },
  {
   "cell_type": "code",
   "id": "a794070a",
   "metadata": {
    "vscode": {
     "languageId": "plaintext"
    },
    "ExecuteTime": {
     "end_time": "2025-10-08T04:56:38.111384Z",
     "start_time": "2025-10-08T04:56:38.094715Z"
    }
   },
   "source": [
    "import faiss\n",
    "import numpy as np\n",
    "\n",
    "dimension = embeddings.shape[1]\n",
    "index = faiss.IndexFlatL2(dimension)\n",
    "index.add(np.array(embeddings))"
   ],
   "outputs": [],
   "execution_count": 14
  },
  {
   "cell_type": "markdown",
   "id": "c111bd46",
   "metadata": {},
   "source": [
    "#### Step 5: Query the Database\n",
    "Task: Take a user question, convert it to a vector, and find the most relevant FAQ line."
   ]
  },
  {
   "cell_type": "code",
   "id": "321077d3",
   "metadata": {
    "vscode": {
     "languageId": "plaintext"
    },
    "ExecuteTime": {
     "end_time": "2025-10-08T04:56:52.604202Z",
     "start_time": "2025-10-08T04:56:52.530982Z"
    }
   },
   "source": [
    "user_question = (\"Best coffee?\")\n",
    "q_emb = model.encode([user_question])\n",
    "D, I = index.search(np.array(q_emb), k=1)\n",
    "print(\"Answer:\", lines[I[0][0]])"
   ],
   "outputs": [
    {
     "name": "stdout",
     "output_type": "stream",
     "text": [
      "Answer: What are the best beans for cold brew? Medium to dark roast beans work best for cold brew because they give smooth, chocolatey flavors when steeped for long hours.\n"
     ]
    }
   ],
   "execution_count": 16
  },
  {
   "cell_type": "markdown",
   "id": "3e9787d4",
   "metadata": {
    "vscode": {
     "languageId": "plaintext"
    }
   },
   "source": [
    "#### Step 6: Make it Interactive with Streamlit\n",
    "Task: Use Streamlit to create a simple chatbot UI."
   ]
  },
  {
   "metadata": {
    "ExecuteTime": {
     "end_time": "2025-10-08T04:57:03.006245Z",
     "start_time": "2025-10-08T04:57:02.711752Z"
    }
   },
   "cell_type": "code",
   "source": [
    "import pickle\n",
    "\n",
    "\n",
    "# Save the already existing objects\n",
    "with open(\"model.pkl\", \"wb\") as f:\n",
    "    pickle.dump(model, f)\n",
    "\n",
    "import faiss, numpy as np, pickle\n",
    "\n",
    "faiss.write_index(index, \"index.faiss\")   # save FAISS index safely\n",
    "np.save(\"lines.npy\", np.array(lines, dtype=object))  # save lines\n",
    "# model: reload by name in app, so no need to pickle it\n",
    "# (you can keep: model_name=\"all-MiniLM-L6-v2\")\n",
    "\n",
    "with open(\"index.pkl\", \"wb\") as f:\n",
    "    pickle.dump(index, f)\n",
    "\n",
    "with open(\"lines.pkl\", \"wb\") as f:\n",
    "    pickle.dump(lines, f)"
   ],
   "id": "60aed19bf9651038",
   "outputs": [],
   "execution_count": 17
  },
  {
   "cell_type": "code",
   "id": "c54c5d38",
   "metadata": {
    "vscode": {
     "languageId": "plaintext"
    },
    "ExecuteTime": {
     "end_time": "2025-10-08T03:54:39.620715Z",
     "start_time": "2025-10-08T03:54:39.544740Z"
    }
   },
   "source": [
    "import streamlit as st\n",
    "\n",
    "st.title(\"Course FAQ Chatbot\")\n",
    "user_question = st.text_input(\"Ask your question:\")\n",
    "if user_question:\n",
    "    q_emb = model.encode([user_question])\n",
    "    D, I = index.search(np.array(q_emb), k=1)\n",
    "    st.write(\"Answer:\", lines[I[0][0]])"
   ],
   "outputs": [
    {
     "name": "stderr",
     "output_type": "stream",
     "text": [
      "2025-10-07 23:54:39.547 WARNING streamlit.runtime.scriptrunner_utils.script_run_context: Thread 'MainThread': missing ScriptRunContext! This warning can be ignored when running in bare mode.\n",
      "2025-10-07 23:54:39.609 \n",
      "  \u001B[33m\u001B[1mWarning:\u001B[0m to view this Streamlit app on a browser, run it with the following\n",
      "  command:\n",
      "\n",
      "    streamlit run C:\\Users\\Sandhya Siva kumar\\PycharmProjects\\AML-3303\\.venv\\Lib\\site-packages\\ipykernel_launcher.py [ARGUMENTS]\n",
      "2025-10-07 23:54:39.610 Thread 'MainThread': missing ScriptRunContext! This warning can be ignored when running in bare mode.\n",
      "2025-10-07 23:54:39.610 Thread 'MainThread': missing ScriptRunContext! This warning can be ignored when running in bare mode.\n",
      "2025-10-07 23:54:39.611 Thread 'MainThread': missing ScriptRunContext! This warning can be ignored when running in bare mode.\n",
      "2025-10-07 23:54:39.612 Thread 'MainThread': missing ScriptRunContext! This warning can be ignored when running in bare mode.\n",
      "2025-10-07 23:54:39.612 Thread 'MainThread': missing ScriptRunContext! This warning can be ignored when running in bare mode.\n",
      "2025-10-07 23:54:39.613 Thread 'MainThread': missing ScriptRunContext! This warning can be ignored when running in bare mode.\n",
      "2025-10-07 23:54:39.614 Session state does not function when running a script without `streamlit run`\n",
      "2025-10-07 23:54:39.615 Thread 'MainThread': missing ScriptRunContext! This warning can be ignored when running in bare mode.\n",
      "2025-10-07 23:54:39.616 Thread 'MainThread': missing ScriptRunContext! This warning can be ignored when running in bare mode.\n",
      "2025-10-07 23:54:39.616 Thread 'MainThread': missing ScriptRunContext! This warning can be ignored when running in bare mode.\n"
     ]
    }
   ],
   "execution_count": 10
  },
  {
   "cell_type": "markdown",
   "id": "6fb3d4b0",
   "metadata": {
    "vscode": {
     "languageId": "plaintext"
    }
   },
   "source": [
    "#### Step 7: Reflection\n",
    "\n",
    "Questions for students:\n",
    "\n",
    "How does the chatbot “understand” the question?\n",
    "\n",
    "What happens if the user asks something not in the FAQ?\n",
    "\n",
    "How could you improve this system to handle more questions or longer documents?"
   ]
  }
 ],
 "metadata": {
  "language_info": {
   "name": "python"
  },
  "kernelspec": {
   "name": "python3",
   "language": "python",
   "display_name": "Python 3 (ipykernel)"
  }
 },
 "nbformat": 4,
 "nbformat_minor": 5
}
